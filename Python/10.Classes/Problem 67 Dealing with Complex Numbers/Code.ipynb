{
 "cells": [
  {
   "cell_type": "code",
   "execution_count": 14,
   "metadata": {},
   "outputs": [
    {
     "name": "stdout",
     "output_type": "stream",
     "text": [
      "2 1\n",
      "5 6\n",
      "7.00+7.00i\n",
      "-3.00-5.00i\n",
      "4.00+17.00i\n",
      "0.26-0.11i\n",
      "2.24+0.00i\n",
      "7.81+0.00i\n"
     ]
    }
   ],
   "source": [
    "import math\n",
    "\n",
    "class Complex(object):\n",
    "    def __init__(self, real, imaginary):\n",
    "        self.real = real\n",
    "        self.imaginary = imaginary\n",
    "        \n",
    "    def __add__(self, no):\n",
    "        new_real = self.real + no.real\n",
    "        new_imag = self.imaginary + no.imaginary\n",
    "        return Complex(new_real, new_imag)\n",
    "    \n",
    "    def __sub__(self, no):\n",
    "        new_real = self.real - no.real\n",
    "        new_imag = self.imaginary - no.imaginary\n",
    "        return Complex(new_real, new_imag)\n",
    "    \n",
    "    \n",
    "    def __mul__(self, no):\n",
    "        new_real = self.real*no.real - self.imaginary*no.imaginary\n",
    "        new_imag = self.real*no.imaginary + self.imaginary*no.real\n",
    "        return Complex(new_real, new_imag)\n",
    "\n",
    "    def __truediv__(self, no):\n",
    "        no_conj = Complex(no.real, no.imaginary*-1)        # conjugate\n",
    "        numerator = self.__mul__(no_conj)\n",
    "        denominator = no.real**2 + no.imaginary**2\n",
    "        return Complex(numerator.real/denominator, numerator.imaginary/denominator)\n",
    "    \n",
    "    def mod(self):\n",
    "        modulus = math.sqrt(self.real**2 + self.imaginary**2)\n",
    "        return Complex(modulus, 0)\n",
    "    \n",
    "    def __str__(self):\n",
    "        if self.imaginary == 0:\n",
    "            result = \"%.2f+0.00i\" % (self.real)\n",
    "        elif self.real == 0:\n",
    "            if self.imaginary >= 0:\n",
    "                result = \"0.00+%.2fi\" % (self.imaginary)\n",
    "            else:\n",
    "                result = \"0.00-%.2fi\" % (abs(self.imaginary))\n",
    "        elif self.imaginary > 0:\n",
    "            result = \"%.2f+%.2fi\" % (self.real, self.imaginary)\n",
    "        else:\n",
    "            result = \"%.2f-%.2fi\" % (self.real, abs(self.imaginary))\n",
    "        return result\n",
    "\n",
    "if __name__ == '__main__':\n",
    "    c = map(float, input().split())\n",
    "    d = map(float, input().split())\n",
    "    x = Complex(*c)\n",
    "    y = Complex(*d)\n",
    "    print(*map(str, [x+y, x-y, x*y, x/y, x.mod(), y.mod()]), sep='\\n')"
   ]
  },
  {
   "cell_type": "code",
   "execution_count": null,
   "metadata": {},
   "outputs": [],
   "source": []
  }
 ],
 "metadata": {
  "kernelspec": {
   "display_name": "Python 3",
   "language": "python",
   "name": "python3"
  },
  "language_info": {
   "codemirror_mode": {
    "name": "ipython",
    "version": 3
   },
   "file_extension": ".py",
   "mimetype": "text/x-python",
   "name": "python",
   "nbconvert_exporter": "python",
   "pygments_lexer": "ipython3",
   "version": "3.8.3"
  }
 },
 "nbformat": 4,
 "nbformat_minor": 4
}
