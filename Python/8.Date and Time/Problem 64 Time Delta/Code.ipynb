{
 "cells": [
  {
   "cell_type": "code",
   "execution_count": 16,
   "metadata": {},
   "outputs": [
    {
     "name": "stdout",
     "output_type": "stream",
     "text": [
      "2\n",
      "Sun 10 May 2015 13:54:36 -0700\n",
      "Sun 10 May 2015 13:54:36 -0000\n",
      "25200\n",
      "Sat 02 May 2015 19:54:36 +0530\n",
      "Fri 01 May 2015 13:54:36 -0000\n",
      "88200\n"
     ]
    }
   ],
   "source": [
    "from datetime import datetime, timedelta\n",
    "\n",
    "T = int(input())\n",
    "for _ in range(T):\n",
    "    date = input()\n",
    "    date_1, time_zone = datetime.strptime(date[4:-6], \"%d %b %Y %H:%M:%S\"), {'hours':int(date[-4:-2]), 'minutes':int(date[-2:])} \n",
    "    date_1 += timedelta(**time_zone)*(1 if '-' in date else -1)\n",
    "\n",
    "    date = input()\n",
    "    date_2, time_zone = datetime.strptime(date[4:-6], \"%d %b %Y %H:%M:%S\"), {'hours':int(date[-4:-2]), 'minutes':int(date[-2:])}\n",
    "    date_2 += timedelta(**time_zone)*(1 if '-' in date else -1)\n",
    "\n",
    "    print(int(abs(date_2 - date_1).total_seconds()))"
   ]
  },
  {
   "cell_type": "code",
   "execution_count": null,
   "metadata": {},
   "outputs": [],
   "source": []
  }
 ],
 "metadata": {
  "kernelspec": {
   "display_name": "Python 3",
   "language": "python",
   "name": "python3"
  },
  "language_info": {
   "codemirror_mode": {
    "name": "ipython",
    "version": 3
   },
   "file_extension": ".py",
   "mimetype": "text/x-python",
   "name": "python",
   "nbconvert_exporter": "python",
   "pygments_lexer": "ipython3",
   "version": "3.8.3"
  }
 },
 "nbformat": 4,
 "nbformat_minor": 4
}
