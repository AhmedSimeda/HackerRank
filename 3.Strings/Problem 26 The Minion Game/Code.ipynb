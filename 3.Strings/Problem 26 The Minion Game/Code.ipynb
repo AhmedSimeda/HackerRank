{
 "cells": [
  {
   "cell_type": "code",
   "execution_count": 1,
   "metadata": {},
   "outputs": [
    {
     "name": "stdout",
     "output_type": "stream",
     "text": [
      "BANANA\n",
      "Stuart 12\n",
      "Wall time: 1.01 ms\n"
     ]
    }
   ],
   "source": [
    "def get_score(string, sub_string):\n",
    "    count = 0\n",
    "    for s in range(len(string)):\n",
    "        if string[s] == sub_string[0]:\n",
    "            if string[s:s+len(sub_string)] == sub_string:\n",
    "                count += 1\n",
    "                \n",
    "    return count\n",
    "\n",
    "def minion_game(string):\n",
    "    subs = []\n",
    "    string = string.lower()\n",
    "    results= {'Stuart':0, 'Kevin':0}\n",
    "    for i in range(1,len(string)+1):\n",
    "        for j in range(len(string)-i+1):\n",
    "            sub   = string[j:j+i]\n",
    "            if sub not in subs:\n",
    "                score = get_score(string, sub)\n",
    "                if sub[0] in 'aeiou':\n",
    "                    results['Kevin'] += score\n",
    "                else:\n",
    "                    results['Stuart'] += score\n",
    "                subs.append(sub)   \n",
    "    \n",
    "    if results['Stuart'] == results['Kevin']:\n",
    "        print('Draw')\n",
    "    else:\n",
    "        winner = sorted(results, key=lambda x:results[x])[1]\n",
    "        print(winner, results[winner])\n",
    "    \n",
    "if __name__ == '__main__':\n",
    "    s = input()\n",
    "    %time minion_game(s)"
   ]
  },
  {
   "cell_type": "markdown",
   "metadata": {},
   "source": [
    "### After Optimization"
   ]
  },
  {
   "cell_type": "code",
   "execution_count": 2,
   "metadata": {},
   "outputs": [
    {
     "name": "stdout",
     "output_type": "stream",
     "text": [
      "BANANA\n",
      "Stuart 12\n",
      "Wall time: 943 µs\n"
     ]
    }
   ],
   "source": [
    "def minion_game(string):\n",
    "    length = len(string)\n",
    "    results= {'Stuart':0, 'Kevin':0}\n",
    "    for i in range(1,length+1):\n",
    "        for j in range(length-i+1):\n",
    "            sub   = string[j:j+i]\n",
    "            if sub[0] in 'AEIOU':\n",
    "                results['Kevin'] += 1\n",
    "            else:\n",
    "                results['Stuart'] += 1\n",
    "    \n",
    "    if results['Stuart'] == results['Kevin']:\n",
    "        print('Draw')\n",
    "    else:\n",
    "        winner = sorted(results, key=lambda x:results[x])[1]\n",
    "        print(winner, results[winner])\n",
    "    \n",
    "if __name__ == '__main__':\n",
    "    s = input()\n",
    "    %time minion_game(s)"
   ]
  },
  {
   "cell_type": "markdown",
   "metadata": {},
   "source": [
    "**More Optimization**"
   ]
  },
  {
   "cell_type": "code",
   "execution_count": 3,
   "metadata": {},
   "outputs": [
    {
     "name": "stdout",
     "output_type": "stream",
     "text": [
      "BANANA\n",
      "Stuart 12\n",
      "Wall time: 929 µs\n"
     ]
    }
   ],
   "source": [
    "def minion_game(string):\n",
    "    length = len(string)\n",
    "    results= {'Stuart':0, 'Kevin':0}\n",
    "    for i in range(length):\n",
    "        # Every substring regardless of its length will be added according to the starting letter\n",
    "        # So what i've tried to do here is to calculate the number of every substring begins with string[i]\n",
    "        if string[i] in 'AEIOU': \n",
    "            results['Kevin'] += length-i   \n",
    "        else:\n",
    "            results['Stuart'] += length-i\n",
    "    \n",
    "    if results['Stuart'] == results['Kevin']:\n",
    "        print('Draw')\n",
    "    else:\n",
    "        winner = sorted(results, key=lambda x:results[x])[1]\n",
    "        print(winner, results[winner])\n",
    "    \n",
    "if __name__ == '__main__':\n",
    "    s = input()\n",
    "    %time minion_game(s)"
   ]
  },
  {
   "cell_type": "code",
   "execution_count": null,
   "metadata": {},
   "outputs": [],
   "source": []
  }
 ],
 "metadata": {
  "kernelspec": {
   "display_name": "Python 3",
   "language": "python",
   "name": "python3"
  },
  "language_info": {
   "codemirror_mode": {
    "name": "ipython",
    "version": 3
   },
   "file_extension": ".py",
   "mimetype": "text/x-python",
   "name": "python",
   "nbconvert_exporter": "python",
   "pygments_lexer": "ipython3",
   "version": "3.8.3"
  }
 },
 "nbformat": 4,
 "nbformat_minor": 4
}
