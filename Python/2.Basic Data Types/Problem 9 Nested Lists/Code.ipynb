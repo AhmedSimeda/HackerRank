{
 "cells": [
  {
   "cell_type": "code",
   "execution_count": 2,
   "metadata": {},
   "outputs": [
    {
     "name": "stdout",
     "output_type": "stream",
     "text": [
      "5\n",
      "Harsh\n",
      "20\n",
      "Beria\n",
      "20\n",
      "Varun\n",
      "19\n",
      "Kakunami\n",
      "19\n",
      "Vikas\n",
      "21\n",
      "Beria\n",
      "Harsh\n"
     ]
    }
   ],
   "source": [
    "if __name__ == '__main__':\n",
    "    students = []\n",
    "    for _ in range(int(input())):\n",
    "        name = input()\n",
    "        score = float(input())\n",
    "        students.append([name,score])\n",
    "    \n",
    "    students = sorted(students, key= lambda x: (x[1],x[0]))\n",
    "    Min = sorted(set([s[1] for s in students]))[1]\n",
    "    reached = False     #to know that we reached the 2nd min\n",
    "    for std in students:\n",
    "        passed = False  #to know that we passsed it\n",
    "        if std[1] == Min:\n",
    "            print(std[0])\n",
    "            reached = True\n",
    "        else:\n",
    "            passed = True\n",
    "        \n",
    "        if reached & passed:\n",
    "            break"
   ]
  }
 ],
 "metadata": {
  "kernelspec": {
   "display_name": "Python 3",
   "language": "python",
   "name": "python3"
  },
  "language_info": {
   "codemirror_mode": {
    "name": "ipython",
    "version": 3
   },
   "file_extension": ".py",
   "mimetype": "text/x-python",
   "name": "python",
   "nbconvert_exporter": "python",
   "pygments_lexer": "ipython3",
   "version": "3.8.3"
  }
 },
 "nbformat": 4,
 "nbformat_minor": 4
}
