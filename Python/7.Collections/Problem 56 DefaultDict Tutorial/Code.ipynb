{
 "cells": [
  {
   "cell_type": "code",
   "execution_count": 1,
   "metadata": {},
   "outputs": [],
   "source": [
    "from collections import defaultdict"
   ]
  },
  {
   "cell_type": "code",
   "execution_count": 14,
   "metadata": {},
   "outputs": [
    {
     "name": "stdout",
     "output_type": "stream",
     "text": [
      "5 2\n",
      "a\n",
      "a\n",
      "b\n",
      "a\n",
      "b\n",
      "a\n",
      "v\n",
      "1 2 4\n",
      "-1\n"
     ]
    }
   ],
   "source": [
    "from collections import defaultdict\n",
    "\n",
    "n, m = tuple(map(int, input().split()))\n",
    "\n",
    "d = defaultdict(list)\n",
    "\n",
    "for i in range(n):\n",
    "    w = input()\n",
    "    d[w].append(i+1)\n",
    "\n",
    "results = []\n",
    "for i in range(m):\n",
    "    w = input()\n",
    "    results.append(d.get(w, -1))\n",
    "\n",
    "for res in results:\n",
    "    if type(res)==list:\n",
    "        print(*res)\n",
    "    else:\n",
    "        print(res)"
   ]
  }
 ],
 "metadata": {
  "kernelspec": {
   "display_name": "Python 3",
   "language": "python",
   "name": "python3"
  },
  "language_info": {
   "codemirror_mode": {
    "name": "ipython",
    "version": 3
   },
   "file_extension": ".py",
   "mimetype": "text/x-python",
   "name": "python",
   "nbconvert_exporter": "python",
   "pygments_lexer": "ipython3",
   "version": "3.8.3"
  }
 },
 "nbformat": 4,
 "nbformat_minor": 4
}
