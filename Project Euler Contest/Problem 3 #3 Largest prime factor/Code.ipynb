{
 "cells": [
  {
   "cell_type": "code",
   "execution_count": 28,
   "metadata": {},
   "outputs": [
    {
     "name": "stdout",
     "output_type": "stream",
     "text": [
      "2\n",
      "10\n",
      "5\n",
      "17\n",
      "17\n"
     ]
    }
   ],
   "source": [
    "# not totally my idea \n",
    "# source : https://gist.github.com/betaprojects/094906b1fdcbeb35a20bb6e68af2a9c7\n",
    "def get_max_factor(num):\n",
    "    # begining with factor = 2\n",
    "    while num%2 == 0:\n",
    "        num //= 2\n",
    "        \n",
    "    factor  = 3\n",
    "    while num >= factor**2:\n",
    "        if num % factor == 0:\n",
    "            num //= factor\n",
    "        else:\n",
    "            factor += 2\n",
    "              \n",
    "    print(2 if num==1 else num)\n",
    "            \n",
    "T = int(input())\n",
    "\n",
    "for _ in range(T):\n",
    "    get_max_factor(int(input()))"
   ]
  },
  {
   "cell_type": "code",
   "execution_count": null,
   "metadata": {},
   "outputs": [],
   "source": []
  }
 ],
 "metadata": {
  "kernelspec": {
   "display_name": "Python 3",
   "language": "python",
   "name": "python3"
  },
  "language_info": {
   "codemirror_mode": {
    "name": "ipython",
    "version": 3
   },
   "file_extension": ".py",
   "mimetype": "text/x-python",
   "name": "python",
   "nbconvert_exporter": "python",
   "pygments_lexer": "ipython3",
   "version": "3.8.3"
  }
 },
 "nbformat": 4,
 "nbformat_minor": 4
}
