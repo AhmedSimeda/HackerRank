{
 "cells": [
  {
   "cell_type": "code",
   "execution_count": 5,
   "metadata": {},
   "outputs": [
    {
     "name": "stdout",
     "output_type": "stream",
     "text": [
      "2\n",
      "1\n",
      "1\n",
      "2\n",
      "2\n"
     ]
    }
   ],
   "source": [
    "from functools import reduce\n",
    "import operator\n",
    "\n",
    "def get_prime_factors(number):\n",
    "    factors = []\n",
    "    fact = 2\n",
    "    while number > 1:\n",
    "        if number%fact == 0:\n",
    "            n = 0\n",
    "            while number%fact == 0:\n",
    "                number //= fact\n",
    "                n += 1\n",
    "            factors.append((fact,n))\n",
    "        fact += 1\n",
    "    return factors\n",
    "\n",
    "def get_sol(limit):\n",
    "    if limit > 1:\n",
    "        factors = []\n",
    "        number  = 1\n",
    "        prime_factors = sorted(reduce(operator.add,map(lambda x:get_prime_factors(x),range(2,limit+1))),key=lambda x:x[1])[::-1]\n",
    "        for fact in prime_factors:\n",
    "            if not fact[0] in factors:\n",
    "                #print(fact)\n",
    "                factors.append(fact[0])\n",
    "                number *= fact[0]**fact[1]\n",
    "        print(number)\n",
    "    else:\n",
    "        print(1)\n",
    "    \n",
    "\n",
    "T = int(input())\n",
    "\n",
    "for _ in range(T):\n",
    "    limit = int(input())\n",
    "    get_sol(limit)"
   ]
  },
  {
   "cell_type": "code",
   "execution_count": null,
   "metadata": {},
   "outputs": [],
   "source": []
  }
 ],
 "metadata": {
  "kernelspec": {
   "display_name": "Python 3",
   "language": "python",
   "name": "python3"
  },
  "language_info": {
   "codemirror_mode": {
    "name": "ipython",
    "version": 3
   },
   "file_extension": ".py",
   "mimetype": "text/x-python",
   "name": "python",
   "nbconvert_exporter": "python",
   "pygments_lexer": "ipython3",
   "version": "3.8.3"
  }
 },
 "nbformat": 4,
 "nbformat_minor": 4
}
