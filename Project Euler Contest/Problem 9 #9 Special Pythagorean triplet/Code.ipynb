{
 "cells": [
  {
   "cell_type": "markdown",
   "metadata": {},
   "source": [
    "### The Idea\n",
    "\n",
    "$$a^2 + b^2 = c^2  \\tag{1}$$ \n",
    "$$a + b + c = N \\tag{2}$$\n",
    "\n",
    "_sub c from both sides in equation(2) and square them_\n",
    "\n",
    "$$a^2 + 2ab + b^2 = N^2 - 2*N*c + c^2 $$ \n",
    "\n",
    "_from equation(1) we can conclude that:_\n",
    "\n",
    "$$2ab = N^2 - 2*N*c \\tag{3}$$\n",
    "\n",
    "_by substituting from equation(2) in equation(3)_\n",
    "\n",
    "$$2a^2 - (2*N - 2c)a + (N^2 - 2*N*c) = 0 \\tag{4}$$"
   ]
  },
  {
   "cell_type": "code",
   "execution_count": 9,
   "metadata": {},
   "outputs": [
    {
     "name": "stdout",
     "output_type": "stream",
     "text": [
      "2\n",
      "12\n",
      "60\n",
      "4\n",
      "-1\n"
     ]
    }
   ],
   "source": [
    "from math import sqrt\n",
    "from functools import reduce\n",
    "import operator\n",
    "\n",
    "def get_sides(c, N):\n",
    "    t1 = 2*N-2*c\n",
    "    t2 = t1**2 - 8*(N**2 - 2*N*c)\n",
    "\n",
    "    if t2 >= 0:  \n",
    "        a = (t1 - sqrt(t2)) / 4\n",
    "        b = (t1 + sqrt(t2)) / 4\n",
    "        if (a > 0) and (b > 0):\n",
    "            if (a == int(a)) and (b == int(b)):\n",
    "                return [True,(a,b,c)]\n",
    "\n",
    "    return [False,()]\n",
    "\n",
    "    \n",
    "def get_sol(N):\n",
    "    Max = 0\n",
    "    for c in range(N//2, 0, -1):\n",
    "        gate,sides = get_sides(c, N)\n",
    "        if gate:\n",
    "            product = int(reduce(operator.mul, sides))\n",
    "            if product > Max:\n",
    "                Max = product \n",
    "                \n",
    "    if Max > 0:\n",
    "        return Max\n",
    "    return -1\n",
    "\n",
    "\n",
    "T = int(input())\n",
    "\n",
    "for _ in range(T):\n",
    "    N = int(input())\n",
    "    print(get_sol(N))"
   ]
  },
  {
   "cell_type": "code",
   "execution_count": null,
   "metadata": {},
   "outputs": [],
   "source": []
  }
 ],
 "metadata": {
  "kernelspec": {
   "display_name": "Python 3",
   "language": "python",
   "name": "python3"
  },
  "language_info": {
   "codemirror_mode": {
    "name": "ipython",
    "version": 3
   },
   "file_extension": ".py",
   "mimetype": "text/x-python",
   "name": "python",
   "nbconvert_exporter": "python",
   "pygments_lexer": "ipython3",
   "version": "3.8.3"
  }
 },
 "nbformat": 4,
 "nbformat_minor": 4
}
