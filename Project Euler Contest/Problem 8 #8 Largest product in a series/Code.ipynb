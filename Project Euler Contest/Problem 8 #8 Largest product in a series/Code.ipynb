{
 "cells": [
  {
   "cell_type": "code",
   "execution_count": 2,
   "metadata": {},
   "outputs": [
    {
     "name": "stdout",
     "output_type": "stream",
     "text": [
      "2\n",
      "10 5\n",
      "3675356291\n",
      "3150\n",
      "10 5\n",
      "2709360626\n",
      "0\n"
     ]
    }
   ],
   "source": [
    "from functools import reduce\n",
    "import operator\n",
    "\n",
    "def get_sol(adj_nums,numbers):\n",
    "    m_prod = 0\n",
    "    for i in range(len(numbers)-adj_nums):\n",
    "        nums = [int(i) for i in numbers[i:i+adj_nums]]\n",
    "        prod = reduce(operator.mul,nums)\n",
    "        if prod > m_prod:\n",
    "            m_prod = prod\n",
    "            m_nums = nums\n",
    "            pos    = i\n",
    "        \n",
    "    print(m_prod)\n",
    "    \n",
    "T = int(input())\n",
    "\n",
    "for _ in range(T):\n",
    "    _, k    = input().split()\n",
    "    numbers = input()\n",
    "    \n",
    "    get_sol(int(k),numbers)"
   ]
  },
  {
   "cell_type": "code",
   "execution_count": null,
   "metadata": {},
   "outputs": [],
   "source": [
    "2\n",
    "10 5\n",
    "3675356291\n",
    "10 5\n",
    "2709360626"
   ]
  }
 ],
 "metadata": {
  "kernelspec": {
   "display_name": "Python 3",
   "language": "python",
   "name": "python3"
  },
  "language_info": {
   "codemirror_mode": {
    "name": "ipython",
    "version": 3
   },
   "file_extension": ".py",
   "mimetype": "text/x-python",
   "name": "python",
   "nbconvert_exporter": "python",
   "pygments_lexer": "ipython3",
   "version": "3.8.3"
  }
 },
 "nbformat": 4,
 "nbformat_minor": 4
}
