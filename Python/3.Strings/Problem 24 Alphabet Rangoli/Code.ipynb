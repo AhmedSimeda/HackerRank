{
 "cells": [
  {
   "cell_type": "code",
   "execution_count": 11,
   "metadata": {},
   "outputs": [
    {
     "name": "stdout",
     "output_type": "stream",
     "text": [
      "5\n",
      "--------e--------\n",
      "------e-d-e------\n",
      "----e-d-c-d-e----\n",
      "--e-d-c-b-c-d-e--\n",
      "e-d-c-b-a-b-c-d-e\n",
      "--e-d-c-b-c-d-e--\n",
      "----e-d-c-d-e----\n",
      "------e-d-e------\n",
      "--------e--------\n"
     ]
    }
   ],
   "source": [
    "def print_rangoli(size):\n",
    "    alpha = [chr(c) for c in range(97,97+size)][::-1]\n",
    "    \n",
    "    for i in range(len(alpha)):\n",
    "        line = alpha[i]\n",
    "        for j in range(i-1,-1,-1):\n",
    "            line = f'{alpha[j]}-{line}-{alpha[j]}'\n",
    "            \n",
    "        print(line.center((2*size-1)+(size-1)*2,'-'))\n",
    "     \n",
    "    for i in range(len(alpha)-2,-1,-1):\n",
    "        line = alpha[i]\n",
    "        for j in range(i-1,-1,-1):\n",
    "            line = f'{alpha[j]}-{line}-{alpha[j]}'\n",
    "            \n",
    "        print(line.center((2*size-1)+(size-1)*2,'-'))\n",
    "        \n",
    "if __name__ == '__main__':\n",
    "    n = int(input())\n",
    "    print_rangoli(n)"
   ]
  },
  {
   "cell_type": "code",
   "execution_count": 2,
   "metadata": {},
   "outputs": [
    {
     "data": {
      "text/plain": [
       "97"
      ]
     },
     "execution_count": 2,
     "metadata": {},
     "output_type": "execute_result"
    }
   ],
   "source": [
    "ord('a')"
   ]
  },
  {
   "cell_type": "code",
   "execution_count": null,
   "metadata": {},
   "outputs": [],
   "source": []
  }
 ],
 "metadata": {
  "kernelspec": {
   "display_name": "Python 3",
   "language": "python",
   "name": "python3"
  },
  "language_info": {
   "codemirror_mode": {
    "name": "ipython",
    "version": 3
   },
   "file_extension": ".py",
   "mimetype": "text/x-python",
   "name": "python",
   "nbconvert_exporter": "python",
   "pygments_lexer": "ipython3",
   "version": "3.8.3"
  }
 },
 "nbformat": 4,
 "nbformat_minor": 4
}
