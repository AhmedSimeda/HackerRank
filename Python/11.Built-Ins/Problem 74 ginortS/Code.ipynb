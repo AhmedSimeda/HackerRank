{
 "cells": [
  {
   "cell_type": "code",
   "execution_count": 11,
   "metadata": {},
   "outputs": [
    {
     "name": "stdout",
     "output_type": "stream",
     "text": [
      "1qaz2wsx3edc4rfv5tgb6yhn7ujm8ik9ol0pQWERTYUIOPASDFGHJKLZXCVBNM\n",
      "abcdefghijklmnopqrstuvwxyzABCDEFGHIJKLMNOPQRSTUVWXYZ1357902468\n"
     ]
    }
   ],
   "source": [
    "string = input()\n",
    "\n",
    "import re\n",
    "\n",
    "lower = sorted([l for l in string if l.islower()])\n",
    "upper = sorted([u for u in string if u.isupper()])\n",
    "\n",
    "digits = ''.join([d for d in string if d.isdigit()])\n",
    "\n",
    "odd  = sorted([o for o in digits if int(o)%2 != 0])\n",
    "even = sorted([e for e in digits if int(e)%2 == 0])\n",
    "\n",
    "print(''.join(lower+upper+odd+even))"
   ]
  },
  {
   "cell_type": "code",
   "execution_count": null,
   "metadata": {},
   "outputs": [],
   "source": []
  }
 ],
 "metadata": {
  "kernelspec": {
   "display_name": "Python 3",
   "language": "python",
   "name": "python3"
  },
  "language_info": {
   "codemirror_mode": {
    "name": "ipython",
    "version": 3
   },
   "file_extension": ".py",
   "mimetype": "text/x-python",
   "name": "python",
   "nbconvert_exporter": "python",
   "pygments_lexer": "ipython3",
   "version": "3.8.3"
  }
 },
 "nbformat": 4,
 "nbformat_minor": 4
}
