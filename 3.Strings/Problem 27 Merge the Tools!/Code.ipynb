{
 "cells": [
  {
   "cell_type": "code",
   "execution_count": 1,
   "metadata": {},
   "outputs": [],
   "source": [
    "import textwrap as tw"
   ]
  },
  {
   "cell_type": "code",
   "execution_count": 5,
   "metadata": {},
   "outputs": [
    {
     "name": "stdout",
     "output_type": "stream",
     "text": [
      "AABCAAADA\n",
      "3\n",
      "AB\n",
      "CA\n",
      "AD\n"
     ]
    }
   ],
   "source": [
    "def merge_the_tools(string, k):\n",
    "    subs = tw.wrap(string, k)\n",
    "    for sub in subs:\n",
    "        new_sub = ''\n",
    "        for s in sub:\n",
    "            if s not in new_sub:\n",
    "                new_sub += s\n",
    "        print(new_sub)\n",
    "\n",
    "if __name__ == '__main__':\n",
    "    string, k = input(), int(input())\n",
    "    merge_the_tools(string, k)"
   ]
  },
  {
   "cell_type": "code",
   "execution_count": null,
   "metadata": {},
   "outputs": [],
   "source": []
  }
 ],
 "metadata": {
  "kernelspec": {
   "display_name": "Python 3",
   "language": "python",
   "name": "python3"
  },
  "language_info": {
   "codemirror_mode": {
    "name": "ipython",
    "version": 3
   },
   "file_extension": ".py",
   "mimetype": "text/x-python",
   "name": "python",
   "nbconvert_exporter": "python",
   "pygments_lexer": "ipython3",
   "version": "3.8.3"
  }
 },
 "nbformat": 4,
 "nbformat_minor": 4
}
