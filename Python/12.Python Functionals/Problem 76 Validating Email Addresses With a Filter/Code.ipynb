{
 "cells": [
  {
   "cell_type": "code",
   "execution_count": 54,
   "metadata": {},
   "outputs": [
    {
     "name": "stdout",
     "output_type": "stream",
     "text": [
      "3\n",
      "lara@hackerrank.com\n",
      "brian-23@hackerrank.com\n",
      "britts_54@hackerrank.com\n",
      "['brian-23@hackerrank.com', 'britts_54@hackerrank.com', 'lara@hackerrank.com']\n"
     ]
    }
   ],
   "source": [
    "def fun(s):\n",
    "    if ('@' in s) and (s.count('@') == 1):\n",
    "        username, web_ex = s.split('@')\n",
    "        if ('.' in web_ex) and (web_ex.count('.') == 1) and (len(username) > 0):\n",
    "            website, extension = web_ex.split('.')\n",
    "            \n",
    "            letters = [chr(l) for l in range(65, 91)]+[chr(l) for l in range(97, 123)] \n",
    "            digits  = [str(i) for i in range(10)]\n",
    "            \n",
    "            username  = all([u in letters+digits+['-', '_'] for u in username])\n",
    "            website   = all([w in letters+digits for w in website])\n",
    "            extension = len(extension) <= 3\n",
    "            \n",
    "            return username&website&extension\n",
    "    \n",
    "    return False\n",
    "\n",
    "def filter_mail(emails):\n",
    "    return list(filter(fun, emails))\n",
    "\n",
    "if __name__ == '__main__':\n",
    "    n = int(input())\n",
    "    emails = []\n",
    "    for _ in range(n):\n",
    "        emails.append(input())\n",
    "\n",
    "filtered_emails = filter_mail(emails)\n",
    "filtered_emails.sort()\n",
    "print(filtered_emails)"
   ]
  }
 ],
 "metadata": {
  "kernelspec": {
   "display_name": "Python 3",
   "language": "python",
   "name": "python3"
  },
  "language_info": {
   "codemirror_mode": {
    "name": "ipython",
    "version": 3
   },
   "file_extension": ".py",
   "mimetype": "text/x-python",
   "name": "python",
   "nbconvert_exporter": "python",
   "pygments_lexer": "ipython3",
   "version": "3.8.3"
  }
 },
 "nbformat": 4,
 "nbformat_minor": 4
}
