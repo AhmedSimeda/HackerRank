{
 "cells": [
  {
   "cell_type": "code",
   "execution_count": null,
   "metadata": {},
   "outputs": [],
   "source": [
    "#!/bin/python3\n",
    "\n",
    "import math\n",
    "import os\n",
    "import random\n",
    "import re\n",
    "import sys\n",
    "\n",
    "# Complete the compareTriplets function below.\n",
    "def compareTriplets(a, b):\n",
    "    Alice, Bob = 0, 0\n",
    "    for n1, n2 in zip(a, b):\n",
    "        if n1>n2:\n",
    "            Alice +=1\n",
    "        elif n1<n2:\n",
    "            Bob += 1\n",
    "    \n",
    "    return Alice, Bob\n",
    "\n",
    "if __name__ == '__main__':\n",
    "    fptr = open(os.environ['OUTPUT_PATH'], 'w')\n",
    "\n",
    "    a = list(map(int, input().rstrip().split()))\n",
    "\n",
    "    b = list(map(int, input().rstrip().split()))\n",
    "\n",
    "    result = compareTriplets(a, b)\n",
    "\n",
    "    fptr.write(' '.join(map(str, result)))\n",
    "    fptr.write('\\n')\n",
    "\n",
    "    fptr.close()\n"
   ]
  }
 ],
 "metadata": {
  "kernelspec": {
   "display_name": "Python 3",
   "language": "python",
   "name": "python3"
  },
  "language_info": {
   "codemirror_mode": {
    "name": "ipython",
    "version": 3
   },
   "file_extension": ".py",
   "mimetype": "text/x-python",
   "name": "python",
   "nbconvert_exporter": "python",
   "pygments_lexer": "ipython3",
   "version": "3.8.3"
  }
 },
 "nbformat": 4,
 "nbformat_minor": 4
}
