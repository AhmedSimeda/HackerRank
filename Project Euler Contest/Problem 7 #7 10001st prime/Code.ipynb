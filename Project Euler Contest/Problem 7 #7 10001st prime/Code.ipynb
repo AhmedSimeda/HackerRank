{
 "cells": [
  {
   "cell_type": "code",
   "execution_count": 50,
   "metadata": {},
   "outputs": [
    {
     "name": "stdout",
     "output_type": "stream",
     "text": [
      "2\n",
      "6\n",
      "13\n",
      "10001\n",
      "104743\n"
     ]
    }
   ],
   "source": [
    "from math import sqrt\n",
    "\n",
    "def is_prime(number, prime_list):\n",
    "    for prime in prime_list:\n",
    "        if prime > sqrt(number):\n",
    "            break\n",
    "        if number%prime == 0:\n",
    "            return False\n",
    "        \n",
    "    return True\n",
    "    \n",
    "def get_sol(nth, cache):\n",
    "    if nth not in cache:\n",
    "        cached_nth = list(cache.keys())[-1]\n",
    "        count = cached_nth\n",
    "        number = cache[cached_nth]\n",
    "        \n",
    "        while count < nth:\n",
    "            number += 2\n",
    "            if is_prime(number, cache.values()):\n",
    "                count += 1\n",
    "                cache[count] = number\n",
    "           \n",
    "    \n",
    "    print(cache[nth])\n",
    "    \n",
    "    return cache\n",
    "\n",
    "\n",
    "\n",
    "T = int(input())\n",
    "\n",
    "cache = {1:2, 2:3}\n",
    "for _ in range(T):\n",
    "    nth = int(input())\n",
    "    cache = get_sol(nth, cache)"
   ]
  },
  {
   "cell_type": "code",
   "execution_count": null,
   "metadata": {},
   "outputs": [],
   "source": []
  }
 ],
 "metadata": {
  "kernelspec": {
   "display_name": "Python 3",
   "language": "python",
   "name": "python3"
  },
  "language_info": {
   "codemirror_mode": {
    "name": "ipython",
    "version": 3
   },
   "file_extension": ".py",
   "mimetype": "text/x-python",
   "name": "python",
   "nbconvert_exporter": "python",
   "pygments_lexer": "ipython3",
   "version": "3.8.3"
  }
 },
 "nbformat": 4,
 "nbformat_minor": 4
}
