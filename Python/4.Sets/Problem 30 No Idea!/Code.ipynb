{
 "cells": [
  {
   "cell_type": "code",
   "execution_count": 1,
   "metadata": {},
   "outputs": [
    {
     "name": "stdout",
     "output_type": "stream",
     "text": [
      "3 2\n",
      "1 5 3\n",
      "3 1\n",
      "5 7\n",
      "1\n"
     ]
    }
   ],
   "source": [
    "_, arr, A, B = input(), input().split(), input().split(), input().split()\n",
    "happiness = 0\n",
    "for a in arr:\n",
    "    if a in A:\n",
    "        happiness += 1\n",
    "    elif a in B:\n",
    "        happiness -= 1\n",
    "\n",
    "print(happiness)\n"
   ]
  },
  {
   "cell_type": "markdown",
   "metadata": {},
   "source": [
    "## More Opt"
   ]
  },
  {
   "cell_type": "code",
   "execution_count": 2,
   "metadata": {},
   "outputs": [],
   "source": [
    "from collections import Counter"
   ]
  },
  {
   "cell_type": "code",
   "execution_count": 3,
   "metadata": {},
   "outputs": [
    {
     "name": "stdout",
     "output_type": "stream",
     "text": [
      "3 2\n",
      "1 5 3\n",
      "3 1\n",
      "5 7\n",
      "1\n"
     ]
    }
   ],
   "source": [
    "_, arr, A, B = input(), input().split(), input().split(), input().split()\n",
    "arr_dict = Counter(arr)\n",
    "happiness = 0\n",
    "for a in arr_dict:\n",
    "    if a in A:\n",
    "        happiness += arr_dict[a]\n",
    "    elif a in B:\n",
    "        happiness -= arr_dict[a]\n",
    "\n",
    "print(happiness)"
   ]
  },
  {
   "cell_type": "markdown",
   "metadata": {},
   "source": [
    "## More..."
   ]
  },
  {
   "cell_type": "code",
   "execution_count": 4,
   "metadata": {},
   "outputs": [
    {
     "name": "stdout",
     "output_type": "stream",
     "text": [
      "3 2\n",
      "1 5 3\n",
      "3 1\n",
      "5 7\n",
      "1\n"
     ]
    }
   ],
   "source": [
    "_, arr, A, B = input(), input().split(), input().split(), input().split()\n",
    "happiness = 0\n",
    "for a in set(arr):\n",
    "    if a in A:\n",
    "        happiness += 1*arr.count(a)\n",
    "    elif a in B:\n",
    "        happiness -= 1*arr.count(a)\n",
    "\n",
    "print(happiness)"
   ]
  },
  {
   "cell_type": "markdown",
   "metadata": {},
   "source": [
    "## And More...."
   ]
  },
  {
   "cell_type": "code",
   "execution_count": 5,
   "metadata": {},
   "outputs": [
    {
     "name": "stdout",
     "output_type": "stream",
     "text": [
      "3 2\n",
      "1 5 3\n",
      "3 1\n",
      "5 7\n",
      "1\n"
     ]
    }
   ],
   "source": [
    "_, arr, A, B = input(), input().split(), input().split(), input().split()\n",
    "happiness = 0\n",
    "\n",
    "for a,b in zip(A,B):\n",
    "    happiness += arr.count(a)-arr.count(b)\n",
    "\n",
    "print(happiness)"
   ]
  },
  {
   "cell_type": "markdown",
   "metadata": {},
   "source": [
    "## Another More"
   ]
  },
  {
   "cell_type": "code",
   "execution_count": 2,
   "metadata": {},
   "outputs": [
    {
     "name": "stdout",
     "output_type": "stream",
     "text": [
      "3 2\n",
      "1 5 3\n",
      "3 1\n",
      "5 7\n",
      "1\n"
     ]
    }
   ],
   "source": [
    "def get_sum(array, sub):\n",
    "    return sum([array.count(s) for s in sub])\n",
    "        \n",
    "n, arr, A, B = input(), input().split(), set(input().split()), set(input().split())\n",
    "happiness = 0\n",
    "\n",
    "arr_A = set(arr).intersection(A)\n",
    "arr_B = set(arr).intersection(B)\n",
    "diff  = set(arr).difference(A.union(B))\n",
    "\n",
    "happiness = len(arr) - get_sum(arr, diff)\n",
    "\n",
    "if len(arr_A) < len(arr_B):\n",
    "    sum_A = get_sum(arr, arr_A)\n",
    "    happiness = sum_A - (happiness-sum_A)\n",
    "else:\n",
    "    sum_B = get_sum(arr, arr_B)\n",
    "    happiness = happiness - 2*sum_B\n",
    "    \n",
    "print(happiness)"
   ]
  },
  {
   "cell_type": "markdown",
   "metadata": {},
   "source": [
    "## Some more..."
   ]
  },
  {
   "cell_type": "code",
   "execution_count": 3,
   "metadata": {},
   "outputs": [
    {
     "name": "stdout",
     "output_type": "stream",
     "text": [
      "3 2\n",
      "1 5 3\n",
      "3 1\n",
      "5 7\n",
      "1\n"
     ]
    }
   ],
   "source": [
    "n, arr, A, B = input(), input().split(), set(input().split()), set(input().split())\n",
    "happiness = 0\n",
    "\n",
    "for i in arr:\n",
    "    happiness += (i in A) - (i in B)\n",
    "\n",
    "print(happiness)"
   ]
  },
  {
   "cell_type": "code",
   "execution_count": null,
   "metadata": {},
   "outputs": [],
   "source": []
  }
 ],
 "metadata": {
  "kernelspec": {
   "display_name": "Python 3",
   "language": "python",
   "name": "python3"
  },
  "language_info": {
   "codemirror_mode": {
    "name": "ipython",
    "version": 3
   },
   "file_extension": ".py",
   "mimetype": "text/x-python",
   "name": "python",
   "nbconvert_exporter": "python",
   "pygments_lexer": "ipython3",
   "version": "3.8.3"
  }
 },
 "nbformat": 4,
 "nbformat_minor": 4
}
