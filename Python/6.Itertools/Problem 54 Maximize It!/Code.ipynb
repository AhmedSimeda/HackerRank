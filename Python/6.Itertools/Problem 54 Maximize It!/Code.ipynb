{
 "cells": [
  {
   "cell_type": "code",
   "execution_count": 2,
   "metadata": {},
   "outputs": [
    {
     "name": "stdout",
     "output_type": "stream",
     "text": [
      "3 1000\n",
      "2 5 4\n",
      "3 7 8 9\n",
      "5 5 7 8 9 10\n",
      "206\n"
     ]
    }
   ],
   "source": [
    "from itertools import product\n",
    "\n",
    "def f(x):\n",
    "    return x**2\n",
    "\n",
    "K, M = tuple(map(int, input().split()))\n",
    "\n",
    "Lists = []\n",
    "for _ in range(K):\n",
    "    Lists.append(list(map(int, input().split()[1:])))\n",
    "\n",
    "Max = -99999\n",
    "for ex in product(*Lists):\n",
    "    temp = sum(map(f, ex))%M\n",
    "    if temp > Max:\n",
    "        Max = temp\n",
    "        \n",
    "print(Max)"
   ]
  },
  {
   "cell_type": "code",
   "execution_count": null,
   "metadata": {},
   "outputs": [],
   "source": []
  }
 ],
 "metadata": {
  "kernelspec": {
   "display_name": "Python 3",
   "language": "python",
   "name": "python3"
  },
  "language_info": {
   "codemirror_mode": {
    "name": "ipython",
    "version": 3
   },
   "file_extension": ".py",
   "mimetype": "text/x-python",
   "name": "python",
   "nbconvert_exporter": "python",
   "pygments_lexer": "ipython3",
   "version": "3.8.3"
  }
 },
 "nbformat": 4,
 "nbformat_minor": 4
}
