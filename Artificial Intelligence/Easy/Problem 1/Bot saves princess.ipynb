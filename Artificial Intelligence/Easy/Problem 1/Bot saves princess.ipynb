{
 "cells": [
  {
   "cell_type": "code",
   "execution_count": null,
   "metadata": {},
   "outputs": [],
   "source": [
    "#!/usr/bin/python\n",
    "\n",
    "def displayPathtoPrincess(n,grid):\n",
    "    pos_dict = {'m':None, 'p':None}\n",
    "    for i, line in enumerate(grid):\n",
    "        search = (set(line)&{'m', 'p'})\n",
    "        if search:\n",
    "            pos_dict[list(search)[0]] = (i, line.index(list(search)[0]))\n",
    "    \n",
    "    v_moves = pos_dict['p'][0] - pos_dict['m'][0]\n",
    "    h_moves = pos_dict['p'][1] - pos_dict['m'][1]\n",
    "    \n",
    "    if v_moves > 0:\n",
    "        for i in range(v_moves):\n",
    "            print('DOWN')\n",
    "    else:\n",
    "        for i in range(abs(v_moves)):\n",
    "            print('UP')\n",
    "    \n",
    "    if h_moves > 0:\n",
    "        for i in range(h_moves):\n",
    "            print('RIGHT')\n",
    "    else:\n",
    "        for i in range(abs(h_moves)):\n",
    "            print('LEFT')\n",
    "\n",
    "m = int(input())\n",
    "grid = [] \n",
    "for i in range(0, m): \n",
    "    grid.append(input().strip())\n",
    "\n",
    "displayPathtoPrincess(m,grid)"
   ]
  },
  {
   "cell_type": "code",
   "execution_count": null,
   "metadata": {},
   "outputs": [],
   "source": []
  }
 ],
 "metadata": {
  "kernelspec": {
   "display_name": "Python 3",
   "language": "python",
   "name": "python3"
  },
  "language_info": {
   "codemirror_mode": {
    "name": "ipython",
    "version": 3
   },
   "file_extension": ".py",
   "mimetype": "text/x-python",
   "name": "python",
   "nbconvert_exporter": "python",
   "pygments_lexer": "ipython3",
   "version": "3.8.3"
  }
 },
 "nbformat": 4,
 "nbformat_minor": 4
}
