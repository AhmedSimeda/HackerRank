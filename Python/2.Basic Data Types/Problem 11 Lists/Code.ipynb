{
 "cells": [
  {
   "cell_type": "code",
   "execution_count": null,
   "metadata": {},
   "outputs": [],
   "source": [
    "if __name__ == '__main__':\n",
    "    N = int(input())\n",
    "    \n",
    "    def Insert(lst, idx, elem):\n",
    "        lst.insert(int(idx), int(elem))\n",
    "        return lst\n",
    "    \n",
    "    def Print(lst):\n",
    "        print(lst)\n",
    "        return lst  #in order no to return a none value\n",
    "    \n",
    "    def Remove(lst, elem):\n",
    "        lst.remove(int(elem))\n",
    "        return lst\n",
    "    \n",
    "    def Append(lst, elem):\n",
    "        lst.append(int(elem))\n",
    "        return lst\n",
    "    \n",
    "    def Sort(lst):\n",
    "        return sorted(lst)\n",
    "    \n",
    "    def Pop(lst):\n",
    "        lst.pop()\n",
    "        return lst  #in order no to return a none value\n",
    "    \n",
    "    def Reverse(lst):\n",
    "        return lst[::-1]\n",
    "    \n",
    "    commands = {'insert':Insert, 'print':Print, 'remove':Remove, \n",
    "                'append':Append, 'sort':Sort, 'pop':Pop, 'reverse':Reverse}\n",
    "    \n",
    "    final_lst = []\n",
    "    for _ in range(N):\n",
    "        command = [final_lst] + input().split()\n",
    "        #print(command)\n",
    "        func = command.pop(1)\n",
    "        args = command\n",
    "        #print(arg)\n",
    "        final_lst = commands[func](*args)"
   ]
  }
 ],
 "metadata": {
  "kernelspec": {
   "display_name": "Python 3",
   "language": "python",
   "name": "python3"
  },
  "language_info": {
   "codemirror_mode": {
    "name": "ipython",
    "version": 3
   },
   "file_extension": ".py",
   "mimetype": "text/x-python",
   "name": "python",
   "nbconvert_exporter": "python",
   "pygments_lexer": "ipython3",
   "version": "3.8.3"
  }
 },
 "nbformat": 4,
 "nbformat_minor": 4
}
