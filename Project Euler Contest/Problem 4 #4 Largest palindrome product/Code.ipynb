{
 "cells": [
  {
   "cell_type": "code",
   "execution_count": null,
   "metadata": {},
   "outputs": [],
   "source": [
    "from math import sqrt\n",
    "\n",
    "def get_palindrome(limit):\n",
    "    for num in range(limit-1,1,-1):\n",
    "        if str(num) == str(num)[::-1]:\n",
    "            for i in range(100,int(sqrt(num))+1):\n",
    "                if num%i == 0:\n",
    "                    if len(str(i)) == len(str(num//i)):\n",
    "                        return num\n",
    "\n",
    "T = int(input())\n",
    "\n",
    "for _ in range(T):\n",
    "    print(get_palindrome(int(input())))"
   ]
  }
 ],
 "metadata": {
  "kernelspec": {
   "display_name": "Python 3",
   "language": "python",
   "name": "python3"
  },
  "language_info": {
   "codemirror_mode": {
    "name": "ipython",
    "version": 3
   },
   "file_extension": ".py",
   "mimetype": "text/x-python",
   "name": "python",
   "nbconvert_exporter": "python",
   "pygments_lexer": "ipython3",
   "version": "3.8.3"
  }
 },
 "nbformat": 4,
 "nbformat_minor": 4
}
