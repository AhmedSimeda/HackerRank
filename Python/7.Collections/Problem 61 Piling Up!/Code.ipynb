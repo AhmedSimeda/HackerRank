{
 "cells": [
  {
   "cell_type": "code",
   "execution_count": null,
   "metadata": {},
   "outputs": [],
   "source": [
    "from collections import deque\n",
    "\n",
    "def can_be_pilled(row):\n",
    "    prev_cube = 2e31 + 1 # According the the description of the problem the biggest length is 2^31\n",
    "    while len(row) != 0:\n",
    "        if row[0] >= row[-1]:\n",
    "            next_cube = row.popleft()\n",
    "        else:\n",
    "            next_cube = row.pop()\n",
    "            \n",
    "        if next_cube > prev_cube:\n",
    "            return \"No\"\n",
    "        \n",
    "        prev_cube = next_cube\n",
    "        \n",
    "    return \"Yes\"\n",
    "    \n",
    "T = int(input())\n",
    "\n",
    "for t in range(T):\n",
    "    _, cubes = int(input()), deque(map(int, input().split()))\n",
    "    print(can_be_pilled(cubes))"
   ]
  }
 ],
 "metadata": {
  "kernelspec": {
   "display_name": "Python 3",
   "language": "python",
   "name": "python3"
  },
  "language_info": {
   "codemirror_mode": {
    "name": "ipython",
    "version": 3
   },
   "file_extension": ".py",
   "mimetype": "text/x-python",
   "name": "python",
   "nbconvert_exporter": "python",
   "pygments_lexer": "ipython3",
   "version": "3.8.3"
  }
 },
 "nbformat": 4,
 "nbformat_minor": 4
}
