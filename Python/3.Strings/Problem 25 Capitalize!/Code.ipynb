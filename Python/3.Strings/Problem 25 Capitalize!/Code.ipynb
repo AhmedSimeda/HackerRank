{
 "cells": [
  {
   "cell_type": "code",
   "execution_count": 14,
   "metadata": {},
   "outputs": [
    {
     "name": "stdout",
     "output_type": "stream",
     "text": [
      "hello     world     lol\n",
      "Hello     World     Lol\n"
     ]
    }
   ],
   "source": [
    "s = input()\n",
    "cap = True\n",
    "for c in range(len(s)):\n",
    "    if s[c].isalnum() and cap:\n",
    "        s = s[:c] + s[c].upper() + s[c+1:]\n",
    "        cap = False\n",
    "    elif s[c] == ' ':\n",
    "        cap = True\n",
    "\n",
    "print(s)"
   ]
  },
  {
   "cell_type": "code",
   "execution_count": null,
   "metadata": {},
   "outputs": [],
   "source": []
  }
 ],
 "metadata": {
  "kernelspec": {
   "display_name": "Python 3",
   "language": "python",
   "name": "python3"
  },
  "language_info": {
   "codemirror_mode": {
    "name": "ipython",
    "version": 3
   },
   "file_extension": ".py",
   "mimetype": "text/x-python",
   "name": "python",
   "nbconvert_exporter": "python",
   "pygments_lexer": "ipython3",
   "version": "3.8.3"
  }
 },
 "nbformat": 4,
 "nbformat_minor": 4
}
