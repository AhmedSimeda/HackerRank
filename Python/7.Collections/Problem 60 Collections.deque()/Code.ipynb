{
 "cells": [
  {
   "cell_type": "code",
   "execution_count": 30,
   "metadata": {},
   "outputs": [
    {
     "name": "stdout",
     "output_type": "stream",
     "text": [
      "6\n",
      "append 1\n",
      "append 2\n",
      "append 3\n",
      "appendleft 4\n",
      "pop\n",
      "popleft\n",
      "1 2\n"
     ]
    }
   ],
   "source": [
    "def perform(op_val):\n",
    "    operations = {\n",
    "        \"append\"     : lambda x, y: x.append(int(y)),\n",
    "        \"appendleft\" : lambda x, y: x.appendleft(int(y)),\n",
    "        \"clear\"      : lambda x   : x.clear(),\n",
    "        \"extend\"     : lambda x, y: x.extend(str(y)),\n",
    "        \"extendleft\" : lambda x, y: x.extendleft(str(y)),\n",
    "        \"pop\"        : lambda x   : x.pop(),\n",
    "        \"popleft\"    : lambda x   : x.popleft(),\n",
    "        \"remove\"     : lambda x, y: x.remove(y) if y in x else x.remove(str(y)),\n",
    "        \"reverse\"    : lambda x   : x.reverse(),\n",
    "        \"rotate\"     : lambda x, y: x.rotate(int(y))\n",
    "    }\n",
    "    \n",
    "    if len(op_val)>1:\n",
    "        operation, value = op_val[0], int(op_val[1])\n",
    "        operations[operation](d, value)\n",
    "    else:\n",
    "        operation = op_val[0]\n",
    "        operations[operation](d)\n",
    "    \n",
    "\n",
    "from collections import deque\n",
    "\n",
    "N = int(input())\n",
    "d = deque()\n",
    "\n",
    "for _ in range(N):\n",
    "    perform(input().split())\n",
    "\n",
    "print(*d)"
   ]
  },
  {
   "cell_type": "code",
   "execution_count": null,
   "metadata": {},
   "outputs": [],
   "source": []
  }
 ],
 "metadata": {
  "kernelspec": {
   "display_name": "Python 3",
   "language": "python",
   "name": "python3"
  },
  "language_info": {
   "codemirror_mode": {
    "name": "ipython",
    "version": 3
   },
   "file_extension": ".py",
   "mimetype": "text/x-python",
   "name": "python",
   "nbconvert_exporter": "python",
   "pygments_lexer": "ipython3",
   "version": "3.8.3"
  }
 },
 "nbformat": 4,
 "nbformat_minor": 4
}
