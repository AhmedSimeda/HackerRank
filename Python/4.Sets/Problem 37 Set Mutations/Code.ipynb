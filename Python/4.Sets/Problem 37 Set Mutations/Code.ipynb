{
 "cells": [
  {
   "cell_type": "code",
   "execution_count": 4,
   "metadata": {},
   "outputs": [
    {
     "name": "stdout",
     "output_type": "stream",
     "text": [
      "16\n",
      "1 2 3 4 5 6 7 8 9 10 11 12 13 14 24 52\n",
      "4\n",
      "intersection_update 10\n",
      "2 3 5 6 8 9 1 4 7 11\n",
      "--------------------------------\n",
      "{'7', '5', '2', '6', '3', '8', '1', '11', '9', '4'}\n",
      "update 2\n",
      "55 66\n",
      "--------------------------------\n",
      "{'7', '55', '5', '2', '6', '3', '66', '8', '1', '11', '9', '4'}\n",
      "symmetric_difference_update 5\n",
      "22 7 35 62 58\n",
      "--------------------------------\n",
      "{'62', '55', '5', '2', '58', '6', '3', '66', '8', '1', '11', '22', '35', '9', '4'}\n",
      "difference_update 7\n",
      "11 22 35 55 58 62 66\n",
      "--------------------------------\n",
      "{'5', '2', '6', '3', '8', '1', '9', '4'}\n",
      "8\n"
     ]
    }
   ],
   "source": [
    "_, A, N = input(), set(input().split()), int(input())\n",
    "\n",
    "def operate(op, op_set):\n",
    "    if op == 'intersection_update':\n",
    "        A.intersection_update(op_set)\n",
    "    elif op == 'update':\n",
    "        A.update(op_set)\n",
    "    elif op == 'symmetric_difference_update':\n",
    "        A.symmetric_difference_update(op_set)\n",
    "    else:\n",
    "        A.difference_update(op_set)\n",
    "    \n",
    "    #print('---------------------------------')\n",
    "    #print(A)\n",
    "       \n",
    "for i in range(N):\n",
    "    operation = input().split()[0]\n",
    "    op_set    = input().split()\n",
    "    operate(operation, op_set)\n",
    "    \n",
    "print(sum(map(int,A)))"
   ]
  },
  {
   "cell_type": "code",
   "execution_count": null,
   "metadata": {},
   "outputs": [],
   "source": []
  }
 ],
 "metadata": {
  "kernelspec": {
   "display_name": "Python 3",
   "language": "python",
   "name": "python3"
  },
  "language_info": {
   "codemirror_mode": {
    "name": "ipython",
    "version": 3
   },
   "file_extension": ".py",
   "mimetype": "text/x-python",
   "name": "python",
   "nbconvert_exporter": "python",
   "pygments_lexer": "ipython3",
   "version": "3.8.3"
  }
 },
 "nbformat": 4,
 "nbformat_minor": 4
}
